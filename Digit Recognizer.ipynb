{
 "cells": [
  {
   "cell_type": "code",
   "execution_count": 1,
   "metadata": {},
   "outputs": [
    {
     "name": "stderr",
     "output_type": "stream",
     "text": [
      "Using TensorFlow backend.\n"
     ]
    }
   ],
   "source": [
    "from tensorflow.keras.preprocessing.image import ImageDataGenerator\n",
    "import tensorflow as tf\n",
    "from tensorflow.keras.optimizers import RMSprop\n",
    "import pandas as pd\n",
    "import numpy as np\n",
    "import matplotlib.pyplot as plt\n",
    "from keras.utils.np_utils import to_categorical\n",
    "from keras.callbacks import ReduceLROnPlateau\n",
    "from sklearn.model_selection import train_test_split\n",
    "import csv"
   ]
  },
  {
   "cell_type": "code",
   "execution_count": 2,
   "metadata": {},
   "outputs": [
    {
     "name": "stdout",
     "output_type": "stream",
     "text": [
      "(42000, 28, 28)\n",
      "(42000,)\n"
     ]
    }
   ],
   "source": [
    "\n",
    "def get_data(filename):\n",
    "\n",
    "    with open(filename) as training_file:\n",
    "      csv_reader = csv.reader(training_file, delimiter=',')\n",
    "      first_line = True\n",
    "      temp_labels= []\n",
    "      temp_images = []\n",
    "\n",
    "      for row in csv_reader:\n",
    "\n",
    "        if first_line: \n",
    "          first_line = False\n",
    "        else:\n",
    "          temp_labels.append(row[0])\n",
    "          image_data = row[1:785]\n",
    "          image_array = np.array_split(image_data, 28) # Make 28 x 28\n",
    "          temp_images.append(image_array)\n",
    "        \n",
    "      images = np.array(temp_images).astype('float')\n",
    "      labels = np.array(temp_labels).astype('float')\n",
    "    return images, labels\n",
    "\"\"\"\n",
    "def get_data2(filename):\n",
    "\n",
    "    with open(filename) as training_file:\n",
    "      csv_reader = csv.reader(training_file, delimiter=',')\n",
    "      first_line = True\n",
    "      temp_images = []\n",
    "\n",
    "      for row in csv_reader:\n",
    "\n",
    "        if first_line: \n",
    "          first_line = False\n",
    "        else:\n",
    "          image_data = row[0:784]\n",
    "          image_array = np.array_split(image_data, 28) # Make 28 x 28\n",
    "          temp_images.append(image_array)\n",
    "        \n",
    "      images = np.array(temp_images).astype('float')\n",
    "    return images\n",
    "\"\"\"\n",
    "training_images, training_labels = get_data(\"train.csv\")\n",
    "\n",
    "\n",
    "print(training_images.shape)\n",
    "print(training_labels.shape)\n",
    "\n"
   ]
  },
  {
   "cell_type": "code",
   "execution_count": 3,
   "metadata": {},
   "outputs": [],
   "source": [
    "training_images = np.expand_dims(training_images,axis=-1)\n"
   ]
  },
  {
   "cell_type": "code",
   "execution_count": 27,
   "metadata": {},
   "outputs": [
    {
     "name": "stdout",
     "output_type": "stream",
     "text": [
      "(37800, 28, 28, 1)\n"
     ]
    }
   ],
   "source": [
    "train_datagen = ImageDataGenerator(rescale = 1./255,   \n",
    "        zca_whitening=False,  # apply ZCA whitening\n",
    "        rotation_range=30,  # randomly rotate images in the range (degrees, 0 to 180)\n",
    "        zoom_range = 0.2, # Randomly zoom image \n",
    "        width_shift_range=0.2,  # randomly shift images horizontally (fraction of total width)\n",
    "        height_shift_range=0.2,  # randomly shift images vertically (fraction of total height)\n",
    "        shear_range=0.2,\n",
    "        fill_mode='nearest')\n",
    "\n",
    "validation_datagen = ImageDataGenerator(rescale= 1./255.)\n",
    "    \n",
    "# Keep These\n",
    "print(training_images.shape)\n",
    "#print(testing_images.shape)"
   ]
  },
  {
   "cell_type": "code",
   "execution_count": 28,
   "metadata": {},
   "outputs": [
    {
     "name": "stdout",
     "output_type": "stream",
     "text": [
      "Model: \"sequential_4\"\n",
      "_________________________________________________________________\n",
      "Layer (type)                 Output Shape              Param #   \n",
      "=================================================================\n",
      "conv2d_16 (Conv2D)           (None, 24, 24, 64)        1664      \n",
      "_________________________________________________________________\n",
      "conv2d_17 (Conv2D)           (None, 20, 20, 64)        102464    \n",
      "_________________________________________________________________\n",
      "max_pooling2d_8 (MaxPooling2 (None, 10, 10, 64)        0         \n",
      "_________________________________________________________________\n",
      "dropout_12 (Dropout)         (None, 10, 10, 64)        0         \n",
      "_________________________________________________________________\n",
      "conv2d_18 (Conv2D)           (None, 8, 8, 64)          36928     \n",
      "_________________________________________________________________\n",
      "conv2d_19 (Conv2D)           (None, 6, 6, 64)          36928     \n",
      "_________________________________________________________________\n",
      "max_pooling2d_9 (MaxPooling2 (None, 3, 3, 64)          0         \n",
      "_________________________________________________________________\n",
      "dropout_13 (Dropout)         (None, 3, 3, 64)          0         \n",
      "_________________________________________________________________\n",
      "flatten_4 (Flatten)          (None, 576)               0         \n",
      "_________________________________________________________________\n",
      "dense_8 (Dense)              (None, 256)               147712    \n",
      "_________________________________________________________________\n",
      "dropout_14 (Dropout)         (None, 256)               0         \n",
      "_________________________________________________________________\n",
      "dense_9 (Dense)              (None, 10)                2570      \n",
      "=================================================================\n",
      "Total params: 328,266\n",
      "Trainable params: 328,266\n",
      "Non-trainable params: 0\n",
      "_________________________________________________________________\n"
     ]
    }
   ],
   "source": [
    "model = tf.keras.models.Sequential([\n",
    "    \n",
    "        tf.keras.layers.Conv2D(64, (5,5), activation='relu', input_shape=(28, 28, 1)),    \n",
    "        tf.keras.layers.Conv2D(64, (5,5), activation='relu'),\n",
    "        tf.keras.layers.MaxPooling2D(2,2),\n",
    "        tf.keras.layers.Dropout(0.25),\n",
    "\n",
    "        tf.keras.layers.Conv2D(64, (3,3), activation='relu', input_shape=(28, 28, 1)),    \n",
    "        tf.keras.layers.Conv2D(64, (3,3), activation='relu'),\n",
    "        tf.keras.layers.MaxPooling2D(2,2),\n",
    "        tf.keras.layers.Dropout(0.25),\n",
    "        \n",
    "        tf.keras.layers.Flatten(),\n",
    "        tf.keras.layers.Dense(256, activation='relu'),\n",
    "        tf.keras.layers.Dropout(0.5),\n",
    "        tf.keras.layers.Dense(10, activation='softmax') \n",
    "])\n",
    "\n",
    "# Compile Model. \n",
    "model.compile(loss = 'sparse_categorical_crossentropy', optimizer='rmsprop', metrics=['accuracy'])\n",
    "\n",
    "\n",
    "model.summary()"
   ]
  },
  {
   "cell_type": "code",
   "execution_count": 29,
   "metadata": {},
   "outputs": [
    {
     "name": "stdout",
     "output_type": "stream",
     "text": [
      "(37800, 28, 28, 1)\n",
      "(37800,)\n"
     ]
    }
   ],
   "source": [
    "print(training_images.shape)\n",
    "print(training_labels.shape)"
   ]
  },
  {
   "cell_type": "code",
   "execution_count": 30,
   "metadata": {},
   "outputs": [],
   "source": [
    "training_images, testing_images, training_labels, testing_labels = train_test_split(training_images, training_labels, test_size = 0.1)"
   ]
  },
  {
   "cell_type": "code",
   "execution_count": 31,
   "metadata": {},
   "outputs": [
    {
     "name": "stdout",
     "output_type": "stream",
     "text": [
      "(34020, 28, 28, 1)\n",
      "(34020,)\n",
      "(3780, 28, 28, 1)\n",
      "(3780,)\n"
     ]
    }
   ],
   "source": [
    "print(training_images.shape)\n",
    "print(training_labels.shape)\n",
    "print(testing_images.shape)\n",
    "print(testing_labels.shape)"
   ]
  },
  {
   "cell_type": "code",
   "execution_count": 32,
   "metadata": {},
   "outputs": [
    {
     "name": "stdout",
     "output_type": "stream",
     "text": [
      "Epoch 1/10\n",
      "1701/1701 [==============================] - 202s 118ms/step - loss: 0.8257 - accuracy: 0.7297 - val_loss: 0.0903 - val_accuracy: 0.9765\n",
      "Epoch 2/10\n",
      "1701/1701 [==============================] - 204s 120ms/step - loss: 0.2986 - accuracy: 0.9173 - val_loss: 0.0856 - val_accuracy: 0.9807\n",
      "Epoch 3/10\n",
      "1701/1701 [==============================] - 203s 120ms/step - loss: 0.2726 - accuracy: 0.9301 - val_loss: 0.2691 - val_accuracy: 0.9730\n",
      "Epoch 4/10\n",
      "1701/1701 [==============================] - 203s 119ms/step - loss: 0.2851 - accuracy: 0.9308 - val_loss: 0.1376 - val_accuracy: 0.9778\n",
      "Epoch 5/10\n",
      "1701/1701 [==============================] - 204s 120ms/step - loss: 0.3025 - accuracy: 0.9285 - val_loss: 0.2232 - val_accuracy: 0.9780\n",
      "Epoch 6/10\n",
      "1701/1701 [==============================] - 197s 116ms/step - loss: 0.3280 - accuracy: 0.9259 - val_loss: 0.1944 - val_accuracy: 0.9791\n",
      "Epoch 7/10\n",
      "1701/1701 [==============================] - 202s 119ms/step - loss: 0.3498 - accuracy: 0.9218 - val_loss: 0.1312 - val_accuracy: 0.9762\n",
      "Epoch 8/10\n",
      "1701/1701 [==============================] - 203s 119ms/step - loss: 0.3744 - accuracy: 0.9194 - val_loss: 0.2308 - val_accuracy: 0.9741\n",
      "Epoch 9/10\n",
      "1701/1701 [==============================] - 203s 119ms/step - loss: 0.3965 - accuracy: 0.9155 - val_loss: 1.0874 - val_accuracy: 0.9664\n",
      "Epoch 10/10\n",
      "1701/1701 [==============================] - 203s 120ms/step - loss: 0.4390 - accuracy: 0.9120 - val_loss: 0.3806 - val_accuracy: 0.9638\n"
     ]
    }
   ],
   "source": [
    "# Train the Model\n",
    "history = model.fit_generator(train_datagen.flow(training_images, training_labels, batch_size=20),\n",
    "                                                 epochs=10,\n",
    "                                                validation_data=validation_datagen.flow(testing_images,testing_labels, batch_size=20),\n",
    "                              validation_steps=len(testing_images) / 20)\n"
   ]
  },
  {
   "cell_type": "code",
   "execution_count": 33,
   "metadata": {},
   "outputs": [
    {
     "data": {
      "image/png": "[encoded data removed]",
      "text/plain": [
       "<Figure size 432x288 with 1 Axes>"
      ]
     },
     "metadata": {
      "needs_background": "light"
     },
     "output_type": "display_data"
    },
    {
     "data": {
      "image/png": "[encoded data removed]",
      "text/plain": [
       "<Figure size 432x288 with 1 Axes>"
      ]
     },
     "metadata": {
      "needs_background": "light"
     },
     "output_type": "display_data"
    }
   ],
   "source": [
    "%matplotlib inline\n",
    "import matplotlib.pyplot as plt\n",
    "acc = history.history['accuracy']\n",
    "val_acc = history.history['val_accuracy']\n",
    "loss = history.history['loss']\n",
    "val_loss = history.history['val_loss']\n",
    "\n",
    "epochs = range(len(acc))\n",
    "\n",
    "plt.plot(epochs, acc, 'r', label='Training accuracy')\n",
    "plt.plot(epochs, val_acc, 'b', label='Validation accuracy')\n",
    "plt.title('Training and validation accuracy')\n",
    "plt.legend()\n",
    "plt.figure()\n",
    "\n",
    "plt.plot(epochs, loss, 'r', label='Training Loss')\n",
    "plt.plot(epochs, val_loss, 'b', label='Validation Loss')\n",
    "plt.title('Training and validation loss')\n",
    "plt.legend()\n",
    "\n",
    "plt.show()"
   ]
  },
  {
   "cell_type": "code",
   "execution_count": 11,
   "metadata": {},
   "outputs": [],
   "source": [
    "test = pd.read_csv(\"test.csv\")\n",
    "test = test / 255.0\n",
    "print(test.shape)\n",
    "test = test.values.reshape(-1,28,28,1)\n",
    "print(test.shape)"
   ]
  },
  {
   "cell_type": "code",
   "execution_count": 34,
   "metadata": {},
   "outputs": [
    {
     "data": {
      "text/plain": [
       "(28000, 10)"
      ]
     },
     "execution_count": 34,
     "metadata": {},
     "output_type": "execute_result"
    }
   ],
   "source": [
    "results = model.predict(test)\n",
    "results.shape"
   ]
  },
  {
   "cell_type": "code",
   "execution_count": 35,
   "metadata": {},
   "outputs": [],
   "source": [
    "from numpy import savetxt\n",
    "# save to csv file\n",
    "savetxt('submission.csv', results, delimiter=',')"
   ]
  },
  {
   "cell_type": "code",
   "execution_count": 36,
   "metadata": {},
   "outputs": [],
   "source": [
    "results = np.argmax(results,axis = 1)\n",
    "results = pd.Series(results,name=\"Label\")"
   ]
  },
  {
   "cell_type": "code",
   "execution_count": 37,
   "metadata": {},
   "outputs": [],
   "source": [
    "submission = pd.concat([pd.Series(range(1,28001),name = \"ImageId\"),results],axis = 1)\n",
    "submission.to_csv(\"cnn_mnist_datagen.csv\",index=False)"
   ]
  },
  {
   "cell_type": "code",
   "execution_count": null,
   "metadata": {},
   "outputs": [],
   "source": []
  }
 ],
 "metadata": {
  "kernelspec": {
   "display_name": "Python 3",
   "language": "python",
   "name": "python3"
  },
  "language_info": {
   "codemirror_mode": {
    "name": "ipython",
    "version": 3
   },
   "file_extension": ".py",
   "mimetype": "text/x-python",
   "name": "python",
   "nbconvert_exporter": "python",
   "pygments_lexer": "ipython3",
   "version": "3.7.9"
  }
 },
 "nbformat": 4,
 "nbformat_minor": 4
}
